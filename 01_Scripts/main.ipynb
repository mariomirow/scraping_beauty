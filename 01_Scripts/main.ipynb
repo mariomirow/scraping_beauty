{
 "cells": [
  {
   "cell_type": "code",
   "execution_count": 14,
   "metadata": {},
   "outputs": [],
   "source": [
    "import scraper_boticario\n",
    "import scraper_falabella\n",
    "from datetime import datetime"
   ]
  },
  {
   "cell_type": "markdown",
   "metadata": {},
   "source": [
    "# Scraper Boticário"
   ]
  },
  {
   "cell_type": "code",
   "execution_count": 3,
   "metadata": {},
   "outputs": [],
   "source": [
    "start_boticario = datetime.now()\n",
    "\n",
    "scraper_boticario.main(product_max = 10_000_000)\n",
    "\n",
    "end_boticario = datetime.now()\n",
    "\n",
    "print(\"Time elapsed in Boticario scraper: \", end_boticario-start_boticario)"
   ]
  },
  {
   "cell_type": "markdown",
   "metadata": {},
   "source": [
    "# Scraper Falabella"
   ]
  },
  {
   "cell_type": "code",
   "execution_count": 4,
   "metadata": {},
   "outputs": [],
   "source": [
    "start_falabella = datetime.now()\n",
    "\n",
    "scraper_falabella.main(max_pages = 200, product_max = 10_000_000)\n",
    "\n",
    "end_falabella = datetime.now()\n",
    "\n",
    "print(\"Time elapsed in Falabella scraper: \", end_falabella-start_falabella)"
   ]
  }
 ],
 "metadata": {
  "kernelspec": {
   "display_name": "Python 3",
   "language": "python",
   "name": "python3"
  },
  "language_info": {
   "codemirror_mode": {
    "name": "ipython",
    "version": 3
   },
   "file_extension": ".py",
   "mimetype": "text/x-python",
   "name": "python",
   "nbconvert_exporter": "python",
   "pygments_lexer": "ipython3",
   "version": "3.7.3"
  }
 },
 "nbformat": 4,
 "nbformat_minor": 2
}
